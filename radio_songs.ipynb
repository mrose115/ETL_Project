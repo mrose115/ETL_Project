{
 "cells": [
  {
   "cell_type": "code",
   "execution_count": null,
   "metadata": {},
   "outputs": [],
   "source": []
  },
  {
   "cell_type": "code",
   "execution_count": 6,
   "metadata": {},
   "outputs": [],
   "source": [
    "import requests\n",
    "from bs4 import BeautifulSoup\n",
    "import pandas as pd\n",
    "\n",
    "urladder = 2010\n",
    "\n",
    "url =(f' https://www.billboard.com/charts/year-end/{urladder}/radio-songs')\n",
    "\n",
    "song_rank = []\n",
    "song_title = []\n",
    "song_artist = []\n",
    "year = []\n",
    "\n",
    "\n",
    "for newurl in url:\n",
    "        \n",
    "    url =(f' https://www.billboard.com/charts/year-end/{urladder}/radio-songs')\n",
    "\n",
    "    page_text = requests.get(url).text\n",
    "\n",
    "    soup = BeautifulSoup(page_text, 'html.parser')\n",
    "\n",
    "    songrank = soup.find_all('div', {'class': 'ye-chart-item__rank'})\n",
    "    songtitle = soup.find_all('div', {'class': 'ye-chart-item__title'})\n",
    "    songartist = soup.find_all('div', {'class': 'ye-chart-item__artist'})\n",
    "\n",
    "    for rank in songrank:\n",
    "        song_rank.append(rank.text)\n",
    "\n",
    "    for title in songtitle:\n",
    "        song_title.append(title.text)\n",
    "    \n",
    "    for artist in songartist:\n",
    "        song_artist.append(artist.text)\n",
    "        year.append(urladder)\n",
    "    \n",
    "    urladder = urladder + 1\n",
    "    if urladder >2019:\n",
    "        break\n",
    "\n",
    "top_radio_songs = pd.DataFrame({\"Rank\": song_rank, \n",
    "                           \"Title\": song_title,\n",
    "                           \"Artist\": song_artist,\n",
    "                            \"Year\": year})     \n",
    "\n",
    "top_radio_songs.to_csv('Top Radio Songs.csv', sep=',', encoding='utf-8')\n",
    "\n",
    "#top_radio_songs"
   ]
  },
  {
   "cell_type": "code",
   "execution_count": null,
   "metadata": {},
   "outputs": [],
   "source": []
  }
 ],
 "metadata": {
  "kernelspec": {
   "display_name": "Python 3",
   "language": "python",
   "name": "python3"
  },
  "language_info": {
   "codemirror_mode": {
    "name": "ipython",
    "version": 3
   },
   "file_extension": ".py",
   "mimetype": "text/x-python",
   "name": "python",
   "nbconvert_exporter": "python",
   "pygments_lexer": "ipython3",
   "version": "3.6.9"
  }
 },
 "nbformat": 4,
 "nbformat_minor": 2
}
