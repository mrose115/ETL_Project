{
 "cells": [
  {
   "cell_type": "code",
   "execution_count": 2,
   "metadata": {},
   "outputs": [],
   "source": [
    "import requests\n",
    "from bs4 import BeautifulSoup\n",
    "import pandas as pd\n",
    "\n",
    "year_adder = 2010\n",
    "url = (f' https://www.billboard.com/charts/year-end/{year_adder}/hot-100-songs')\n",
    "\n",
    "song_rank = []\n",
    "song_title = []\n",
    "song_artist = []\n",
    "song_year = []\n",
    "\n",
    "for newurl in url:\n",
    "        \n",
    "    url = (f' https://www.billboard.com/charts/year-end/{year_adder}/hot-100-songs')\n",
    "     \n",
    "    page_text = requests.get(url).text\n",
    "\n",
    "    soup = BeautifulSoup(page_text, 'html.parser')\n",
    "\n",
    "    songrank = soup.find_all('div', {'class': 'ye-chart-item__rank'})\n",
    "    songtitle = soup.find_all('div', {'class': 'ye-chart-item__title'})\n",
    "    songartist = soup.find_all('div', {'class': 'ye-chart-item__artist'})\n",
    "    \n",
    "    for rank in songrank:\n",
    "        song_rank.append(rank.text)\n",
    "\n",
    "    for title in songtitle:\n",
    "        song_title.append(title.text)\n",
    "\n",
    "    for artist in songartist:\n",
    "        song_artist.append(artist.text)\n",
    "        song_year.append(year_adder)\n",
    "        \n",
    "    year_adder = year_adder + 1\n",
    "    if year_adder >2019:\n",
    "        break\n",
    "\n",
    "billboard_data = pd.DataFrame({\"Song Rank\": song_rank,\n",
    "                               \"Song Title\": song_title,\n",
    "                               \"Song Artist\": song_artist,\n",
    "                               \"Song Year\": song_year})      \n",
    "\n",
    "billboard_data.to_csv('Billboard Top 100 Songs by Year.csv', sep=',', encoding='utf-8')"
   ]
  },
  {
   "cell_type": "code",
   "execution_count": null,
   "metadata": {},
   "outputs": [],
   "source": []
  }
 ],
 "metadata": {
  "kernelspec": {
   "display_name": "Python 3",
   "language": "python",
   "name": "python3"
  },
  "language_info": {
   "codemirror_mode": {
    "name": "ipython",
    "version": 3
   },
   "file_extension": ".py",
   "mimetype": "text/x-python",
   "name": "python",
   "nbconvert_exporter": "python",
   "pygments_lexer": "ipython3",
   "version": "3.7.4"
  }
 },
 "nbformat": 4,
 "nbformat_minor": 2
}
